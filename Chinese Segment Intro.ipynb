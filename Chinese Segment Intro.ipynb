{
 "metadata": {
  "name": "Chinese Segment Intro"
 },
 "nbformat": 3,
 "nbformat_minor": 0,
 "worksheets": [
  {
   "cells": [
    {
     "cell_type": "heading",
     "level": 1,
     "metadata": {},
     "source": "\u4e2d\u6587\u5206\u8bcd\u5de5\u5177\n"
    },
    {
     "cell_type": "heading",
     "level": 3,
     "metadata": {},
     "source": "\u4ee5\u7ed3\u5df4\u5206\u8bcd\u4e3a\u4f8b</br>\n>\u5b89\u88c5 pip install jieba  \u6216\u8005 easy_install jieba </br>\n>\u5b98\u65b9\u6587\u6863 \uff1ahttps://github.com/fxsjy/jieba"
    },
    {
     "cell_type": "code",
     "collapsed": false,
     "input": "import jieba\nimport jieba.posseg as posg\nimport jieba.analyse",
     "language": "python",
     "metadata": {},
     "outputs": [],
     "prompt_number": 11
    },
    {
     "cell_type": "heading",
     "level": 3,
     "metadata": {},
     "source": "\u57fa\u672c\u5206\u8bcd"
    },
    {
     "cell_type": "code",
     "collapsed": false,
     "input": "s = \"\u4f60\u770b\u4e0d\u5230\u6211\u7684\u5185\u5fc3\uff0c\u6211\u5ffd\u7565\u4f60\u7684\u60c5\u7eea\u3002\u4e89\u5435\u66b4\u9732\u66f4\u591a\uff0c\u4e00\u4e2a\u4eba\u5185\u5fc3\u6839\u6df1\u8482\u56fa\u7684\u601d\u60f3\u4e0d\u4f1a\u5728\u70ed\u604b\u4e2d\uff0c\u800c\u53ea\u80fd\u5728\u4e89\u5435\u4e2d\u96c6\u4e2d\u51f8\u663e\u51fa\u6765\u3002\u63a5\u53d7\u4e00\u4e2a\u4eba\u5c31\u662f\u63a5\u53d7\u4ed6\u6210\u957f\u8fc7\u7a0b\u4e2d\u6240\u6709\u7684\u70ed\u60c5\u548c\u987e\u8651\uff0c\u51b7\u6de1\u548c\u632b\u6298\uff0c\u8fc7\u5f80\u548c\u73b0\u5728\uff0c\u7136\u540e\u627f\u8bfa\u7ed9\u51fa\u81ea\u5df1\u7684\u672a\u6765\"\ns1 = \"\u6709\u4eba\u8bf4\uff0c\u71c3\u6cb9\u7a0e\u5373\u4f7f\u63d0\u9ad8\uff0c\u4e5f\u6bd4\u6b27\u6d32\u4e00\u4e9b\u56fd\u5bb6\u4f4e\u3002\u8fd9\u4e9b\u6240\u8c13\u7684\u4e13\u5bb6\u771f\u53ef\u8c13\u65e0\u77e5\u3002\u6b27\u6d32\u768499%\u9ad8\u901f\u8def\u4e4b\u6240\u4ee5\u4e0d\u6536\u8d39\uff0c\u5c31\u662f\u56e0\u4e3a\u6536\u4e86\u71c3\u6cb9\u7a0e\u3002\u9ad8\u901f\u516c\u8def\u7684\u6536\u8d39\u4f53\u73b0\u5728\u71c3\u6cb9\u7a0e\u91cc\u3002\u6ca1\u6709\u4efb\u4f55\u4e00\u4e2a\u56fd\u5bb6\uff0c\u4e00\u65b9\u9762\uff0c\u5f81\u6536\u6602\u8d35\u7684\u9ad8\u901f\u8d39\uff0c\u540c\u65f6\uff0c\u8fd8\u5f81\u7a0e\u8d85\u8fc7\u9ad8\u6602\u7684\u71c3\u6cb9\u7a0e\u7684\u3002\u5982\u679c\u4e8c\u8005\u76f8\u52a0\uff0c\u4e2d\u56fd\u53c8\u4e00\u4e2a\u5168\u7403\u7b2c\u4e00\"\nresult = jieba.cut(s1)\nfor word in result:\n    print word",
     "language": "python",
     "metadata": {},
     "outputs": [
      {
       "output_type": "stream",
       "stream": "stdout",
       "text": "<type 'generator'>\n"
      }
     ],
     "prompt_number": 48
    },
    {
     "cell_type": "heading",
     "level": 3,
     "metadata": {},
     "source": "\u8bcd\u9891\u7edf\u8ba1"
    },
    {
     "cell_type": "code",
     "collapsed": false,
     "input": "freq = {}\nfor word in result:\n    freq[word] = freq.get(word,0)+1\nfor k in freq:\n    print k,freq[k]",
     "language": "python",
     "metadata": {},
     "outputs": [
      {
       "ename": "IndentationError",
       "evalue": "expected an indented block (<ipython-input-74-7bbb4c14ce1d>, line 6)",
       "output_type": "pyerr",
       "traceback": [
        "\u001b[1;31mIndentationError\u001b[0m\u001b[1;31m:\u001b[0m expected an indented block\n"
       ]
      }
     ],
     "prompt_number": 74
    },
    {
     "cell_type": "heading",
     "level": 3,
     "metadata": {},
     "source": "\u8f93\u51fa\u8bcd\u6027 & \u6309\u8bcd\u6027\u7b5b\u9009"
    },
    {
     "cell_type": "code",
     "collapsed": false,
     "input": "result_pos = posg.cut(s)\nfor word in result_pos:\n    if word.flag in [\"n\",\"v\",\"adj\"]: #\u6309\u8bcd\u6027\u63d0\u53d6\n        print word.word,word.flag",
     "language": "python",
     "metadata": {},
     "outputs": [
      {
       "output_type": "stream",
       "stream": "stdout",
       "text": "\u7ed3\u5a5a v\n\u7684 uj\n\u548c c\n\u5c1a\u672a d\n\u7ed3\u5a5a v\n\u7684 uj\n"
      }
     ],
     "prompt_number": 10
    },
    {
     "cell_type": "heading",
     "level": 3,
     "metadata": {},
     "source": "\u63d0\u53d6\u5173\u952e\u8bcd"
    },
    {
     "cell_type": "code",
     "collapsed": false,
     "input": "keywords = jieba.analyse.extract_tags(s1,10,True)",
     "language": "python",
     "metadata": {},
     "outputs": [],
     "prompt_number": 17
    },
    {
     "cell_type": "code",
     "collapsed": false,
     "input": "for kw in keywords:\n    print kw[0],kw[1]",
     "language": "python",
     "metadata": {},
     "outputs": [
      {
       "output_type": "stream",
       "stream": "stdout",
       "text": " \u71c3\u6cb9\u7a0e 1.16382412394\n\u6536\u8d39 0.338933927058\n99 0.27169926143\n\u6b27\u6d32 0.243794807911\n\u9ad8\u901f\u8def 0.230977455311\n\u76f8\u52a0 0.207117861572\n\u9ad8\u6602 0.198804228579\n\u65e0\u77e5 0.189545364113\n\u6602\u8d35 0.18761888078\n\u5f81\u7a0e 0.185694951568\n"
      }
     ],
     "prompt_number": 21
    },
    {
     "cell_type": "heading",
     "level": 3,
     "metadata": {},
     "source": "\u751f\u6210\u8bed\u4e49\u7f51\u7edc"
    },
    {
     "cell_type": "code",
     "collapsed": false,
     "input": "word_list = []\nfor word in result:\n    word_list.append(word)\nlength = len(word_list)\nfor i in range(0,length-1):\n    print word_list[i],word_list[i+1]",
     "language": "python",
     "metadata": {},
     "outputs": [
      {
       "output_type": "stream",
       "stream": "stdout",
       "text": "[0, 1, 2, 3, 4, 5, 6, 7, 8, 9]\n"
      }
     ],
     "prompt_number": 50
    },
    {
     "cell_type": "heading",
     "level": 3,
     "metadata": {},
     "source": "\u6587\u4ef6\u5206\u8bcd"
    },
    {
     "cell_type": "code",
     "collapsed": false,
     "input": "text = open(\"c:/users/tanhe/desktop/test.txt\",\"r\").readlines()\n#text_seg = jieba.cut(text)\n#for word in text_seg:\n    #print word\nfor line in text:\n    print line.strip().decode(\"gbk\")  #\u9700\u786e\u5b9a\u6587\u4ef6\u7f16\u7801",
     "language": "python",
     "metadata": {},
     "outputs": [
      {
       "output_type": "stream",
       "stream": "stdout",
       "text": "\u9648\u51ef\u6b4c\u5e76\u4e0d\u662f\u300a\u65e0\u6781\u300b\u7684\u552f\u4e00\u8457\u4f5c\u6743\u4eba\uff0c\u4e00\u90e8\u7535\u5f71\u7684\u6574\u4f53\u7248\u6743\u5f52\u7535\u5f71\u5236\u7247\u5382\u6240\u6709\u3002\n\u4e00\u90e8\u7535\u5f71\u7684\u4f5c\u8005\u5305\u62ec\u5bfc\u6f14\u3001\u6444\u5f71\u3001\u7f16\u5267\u7b49\u521b\u4f5c\u4eba\u5458\uff0c\u8fd9\u4e9b\u521b\u4f5c\u4eba\u5458\u5bf9\u4ed6\u4eec\u7684\u521b\u4f5c\u662f\u6709\u7248\u6743\u7684\u3002\u4e0d\u7ecf\u8fc7\u5236\u7247\u4eba\u6388\u6743\uff0c\u5176\u4ed6\u4eba\u4e0d\u80fd\u5bf9\u7535\u5f71\u505a\u62f7\u8d1d\u3001\u53d1\u884c\u3001\u53cd\u6620\uff0c\u4e0d\u80fd\u901a\u8fc7\u7f51\u7edc\u6765\u4f20\u64ad\uff0c\u65e2\u4e0d\u80fd\u628a\u7535\u5f71\u6539\u7f16\u6210\u5c0f\u8bf4\u3001\u8fde\u73af\u753b\u7b49\u5176\u4ed6\u827a\u672f\u5f62\u5f0f\u53d1\u8868\uff0c\u4e5f\u4e0d\u80fd\u628a\u4e00\u90e8\u51e0\u4e2a\u5c0f\u65f6\u624d\u80fd\u653e\u5b8c\u7684\u7535\u5f71\u6539\u7f16\u6210\u534a\u4e2a\u5c0f\u65f6\u5c31\u80fd\u653e\u5b8c\u7684\u77ed\u7247\u3002\n\u8457\u4f5c\u6743\u548c\u7248\u6743\u5728\u6211\u56fd\u662f\u540c\u4e00\u4e2a\u6982\u5ff5\uff0c\u662f\u6cd5\u5f8b\u8d4b\u4e88\u4f5c\u54c1\u521b\u4f5c\u8005\u7684\u4e13\u6709\u6743\u5229\u3002\u6240\u8c13\u4e13\u6709\u6743\u5229\u5c31\u662f\u6ca1\u6709\u7ecf\u8fc7\u6743\u5229\u4eba\u8bb8\u53ef\u53c8\u4e0d\u662f\u6cd5\u5f8b\u89c4\u5b9a\u7684\u4f8b\u5916\uff0c\u8981\u4f7f\u7528\u8fd9\u4e2a\u4f5c\u54c1\uff0c\u5c31\u5fc5\u987b\u7ecf\u8fc7\u4f5c\u8005\u6388\u6743\uff0c\u6ca1\u6709\u6388\u6743\u5c31\u662f\u4fb5\u6743\u3002\n"
      }
     ],
     "prompt_number": 69
    },
    {
     "cell_type": "code",
     "collapsed": false,
     "input": "wordlist = []\nout_file = open(\"c:/users/tanhe/desktop/output.txt\",\"w\")\nfor line in text:\n    parag = \"\\n\".join(jieba.cut(line.strip()))\n    out_file.write(parag)\nout_file.close()",
     "language": "python",
     "metadata": {},
     "outputs": [],
     "prompt_number": 78
    },
    {
     "cell_type": "code",
     "collapsed": false,
     "input": "print wordlist",
     "language": "python",
     "metadata": {},
     "outputs": [
      {
       "output_type": "stream",
       "stream": "stdout",
       "text": "[[u'\\u9648\\u51ef\\u6b4c', u'\\u5e76', u'\\u4e0d\\u662f', u'\\u300a', u'\\u65e0\\u6781', u'\\u300b', u'\\u7684', u'\\u552f\\u4e00', u'\\u8457\\u4f5c\\u6743\\u4eba', u'\\uff0c', u'\\u4e00\\u90e8', u'\\u7535\\u5f71', u'\\u7684', u'\\u6574\\u4f53', u'\\u7248\\u6743', u'\\u5f52', u'\\u7535\\u5f71', u'\\u5236\\u7247\\u5382', u'\\u6240\\u6709', u'\\u3002'], [u'\\u4e00\\u90e8', u'\\u7535\\u5f71', u'\\u7684', u'\\u4f5c\\u8005', u'\\u5305\\u62ec', u'\\u5bfc\\u6f14', u'\\u3001', u'\\u6444\\u5f71', u'\\u3001', u'\\u7f16\\u5267', u'\\u7b49', u'\\u521b\\u4f5c', u'\\u4eba\\u5458', u'\\uff0c', u'\\u8fd9\\u4e9b', u'\\u521b\\u4f5c', u'\\u4eba\\u5458', u'\\u5bf9', u'\\u4ed6\\u4eec', u'\\u7684', u'\\u521b\\u4f5c', u'\\u662f', u'\\u6709', u'\\u7248\\u6743', u'\\u7684', u'\\u3002', u'\\u4e0d', u'\\u7ecf\\u8fc7', u'\\u5236\\u7247\\u4eba', u'\\u6388\\u6743', u'\\uff0c', u'\\u5176\\u4ed6\\u4eba', u'\\u4e0d\\u80fd', u'\\u5bf9', u'\\u7535\\u5f71', u'\\u505a', u'\\u62f7\\u8d1d', u'\\u3001', u'\\u53d1\\u884c', u'\\u3001', u'\\u53cd\\u6620', u'\\uff0c', u'\\u4e0d\\u80fd', u'\\u901a\\u8fc7', u'\\u7f51\\u7edc', u'\\u6765', u'\\u4f20\\u64ad', u'\\uff0c', u'\\u65e2', u'\\u4e0d\\u80fd', u'\\u628a', u'\\u7535\\u5f71', u'\\u6539\\u7f16', u'\\u6210', u'\\u5c0f\\u8bf4', u'\\u3001', u'\\u8fde\\u73af\\u753b', u'\\u7b49', u'\\u5176\\u4ed6', u'\\u827a\\u672f', u'\\u5f62\\u5f0f', u'\\u53d1\\u8868', u'\\uff0c', u'\\u4e5f', u'\\u4e0d\\u80fd', u'\\u628a', u'\\u4e00\\u90e8', u'\\u51e0\\u4e2a', u'\\u5c0f\\u65f6', u'\\u624d\\u80fd', u'\\u653e\\u5b8c', u'\\u7684', u'\\u7535\\u5f71', u'\\u6539\\u7f16', u'\\u6210', u'\\u534a\\u4e2a', u'\\u5c0f\\u65f6', u'\\u5c31', u'\\u80fd', u'\\u653e', u'\\u5b8c', u'\\u7684', u'\\u77ed\\u7247', u'\\u3002'], [u'\\u8457\\u4f5c\\u6743', u'\\u548c', u'\\u7248\\u6743', u'\\u5728', u'\\u6211\\u56fd', u'\\u662f', u'\\u540c\\u4e00\\u4e2a', u'\\u6982\\u5ff5', u'\\uff0c', u'\\u662f', u'\\u6cd5\\u5f8b', u'\\u8d4b\\u4e88', u'\\u4f5c\\u54c1', u'\\u521b\\u4f5c\\u8005', u'\\u7684', u'\\u4e13\\u6709', u'\\u6743\\u5229', u'\\u3002', u'\\u6240\\u8c13', u'\\u4e13\\u6709', u'\\u6743\\u5229', u'\\u5c31\\u662f', u'\\u6ca1\\u6709', u'\\u7ecf\\u8fc7', u'\\u6743\\u5229', u'\\u4eba', u'\\u8bb8\\u53ef', u'\\u53c8', u'\\u4e0d\\u662f', u'\\u6cd5\\u5f8b', u'\\u89c4\\u5b9a', u'\\u7684', u'\\u4f8b\\u5916', u'\\uff0c', u'\\u8981', u'\\u4f7f\\u7528', u'\\u8fd9\\u4e2a', u'\\u4f5c\\u54c1', u'\\uff0c', u'\\u5c31', u'\\u5fc5\\u987b', u'\\u7ecf\\u8fc7', u'\\u4f5c\\u8005', u'\\u6388\\u6743', u'\\uff0c', u'\\u6ca1\\u6709', u'\\u6388\\u6743', u'\\u5c31\\u662f', u'\\u4fb5\\u6743', u'\\u3002']]\n"
      }
     ],
     "prompt_number": 73
    },
    {
     "cell_type": "code",
     "collapsed": false,
     "input": "\nfor word in result:\n    out_file.write(\"\")",
     "language": "python",
     "metadata": {},
     "outputs": []
    }
   ],
   "metadata": {}
  }
 ]
}